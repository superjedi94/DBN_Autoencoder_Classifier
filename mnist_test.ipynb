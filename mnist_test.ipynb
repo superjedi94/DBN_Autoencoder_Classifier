{
 "cells": [
  {
   "cell_type": "code",
   "execution_count": 2,
   "metadata": {},
   "outputs": [],
   "source": [
    "import matplotlib.pyplot as plt\n",
    "import urllib.request\n",
    "import os\n",
    "import gzip\n",
    "import struct\n",
    "import pandas as pd\n",
    "import numpy as np\n",
    "from sklearn.datasets import load_digits\n",
    "from sklearn.model_selection import cross_val_score\n",
    "\n",
    "from DBNAC import DBNClassifier, SimpleDBNClassifier\n",
    "data_folder = os.path.join(os.getcwd(), 'data')\n",
    "os.makedirs(data_folder, exist_ok=True)\n",
    "\n",
    "# urllib.request.urlretrieve('https://azureopendatastorage.blob.core.windows.net/mnist/train-images-idx3-ubyte.gz',\n",
    "#                            filename=os.path.join(data_folder, 'train-images.gz'))\n",
    "# urllib.request.urlretrieve('https://azureopendatastorage.blob.core.windows.net/mnist/train-labels-idx1-ubyte.gz',\n",
    "#                            filename=os.path.join(data_folder, 'train-labels.gz'))\n",
    "# urllib.request.urlretrieve('https://azureopendatastorage.blob.core.windows.net/mnist/t10k-images-idx3-ubyte.gz',\n",
    "#                            filename=os.path.join(data_folder, 'test-images.gz'))\n",
    "# urllib.request.urlretrieve('https://azureopendatastorage.blob.core.windows.net/mnist/t10k-labels-idx1-ubyte.gz',\n",
    "#                            filename=os.path.join(data_folder, 'test-labels.gz'))\n",
    "# load compressed MNIST gz files and return numpy arrays\n",
    "def load_data(filename, label=False):\n",
    "    with gzip.open(filename) as gz:\n",
    "        struct.unpack('I', gz.read(4))\n",
    "        n_items = struct.unpack('>I', gz.read(4))\n",
    "        if not label:\n",
    "            n_rows = struct.unpack('>I', gz.read(4))[0]\n",
    "            n_cols = struct.unpack('>I', gz.read(4))[0]\n",
    "            res = np.frombuffer(gz.read(n_items[0] * n_rows * n_cols), dtype=np.uint8)\n",
    "            res = res.reshape(n_items[0], n_rows * n_cols)\n",
    "        else:\n",
    "            res = np.frombuffer(gz.read(n_items[0]), dtype=np.uint8)\n",
    "            res = res.reshape(n_items[0], 1)\n",
    "    return res"
   ]
  },
  {
   "cell_type": "code",
   "execution_count": 5,
   "metadata": {},
   "outputs": [],
   "source": [
    "# note we also shrink the intensity values (X) from 0-255 to 0-1. This helps the model converge faster.\n",
    "X_train = load_data(os.path.join(\n",
    "    data_folder, 'train-images.gz'), False)\n",
    "X_test = load_data(os.path.join(data_folder, 'test-images.gz'), False)\n",
    "y_train = load_data(os.path.join(\n",
    "    data_folder, 'train-labels.gz'), True).reshape(-1)\n",
    "y_test = load_data(os.path.join(\n",
    "    data_folder, 'test-labels.gz'), True).reshape(-1)\n",
    "X_train = (X_train > 127)*1\n",
    "X_test = (X_test > 127)*1"
   ]
  },
  {
   "cell_type": "code",
   "execution_count": 11,
   "metadata": {},
   "outputs": [],
   "source": [
    "def acc(pred, y):\n",
    "    return np.mean((pred==y)*1.0)"
   ]
  },
  {
   "cell_type": "code",
   "execution_count": 24,
   "metadata": {},
   "outputs": [
    {
     "name": "stdout",
     "output_type": "stream",
     "text": [
      "i= 1000\n",
      "Accuracy train 0.999\n",
      "Accuracy test 0.8697\n",
      "i= 3000\n",
      "Accuracy train 0.998\n",
      "Accuracy test 0.9208\n",
      "i= 7000\n",
      "Accuracy train 0.9884285714285714\n",
      "Accuracy test 0.9233\n",
      "i= 10000\n",
      "Accuracy train 0.9885\n",
      "Accuracy test 0.9364\n"
     ]
    }
   ],
   "source": [
    "list_i = [1000,3000,7000,10000,60000]\n",
    "for i in list_i:\n",
    "    clf = SimpleDBNClassifier(n_hiddens=[200, 200, 10], lr_pre_train=1e-5, lr_fine_tune=0.01, \n",
    "                    epochs_pre_train=20, epochs_fine_tune=20, batch_size=50, k=3, \n",
    "                    random_state=42, use_gpu=True, verbose=False)\n",
    "    # scores = cross_val_score(clf, X_train, y_train)\n",
    "    # print(np.mean(scores))\n",
    "    # print(scores)\n",
    "    x = X_train[:i]\n",
    "    y = y_train[:i]\n",
    "    clf.fit(x,y)\n",
    "    print('i=',i)\n",
    "    print('Accuracy train', acc(clf.predict(x), y))\n",
    "    print('Accuracy test', acc(clf.predict(X_test), y_test))"
   ]
  },
  {
   "cell_type": "code",
   "execution_count": null,
   "metadata": {},
   "outputs": [],
   "source": []
  }
 ],
 "metadata": {
  "kernelspec": {
   "display_name": "tenserflow",
   "language": "python",
   "name": "python3"
  },
  "language_info": {
   "codemirror_mode": {
    "name": "ipython",
    "version": 3
   },
   "file_extension": ".py",
   "mimetype": "text/x-python",
   "name": "python",
   "nbconvert_exporter": "python",
   "pygments_lexer": "ipython3",
   "version": "3.7.9"
  },
  "orig_nbformat": 4
 },
 "nbformat": 4,
 "nbformat_minor": 2
}
